{
 "cells": [
  {
   "cell_type": "code",
   "execution_count": 3,
   "metadata": {},
   "outputs": [],
   "source": [
    "import os\n",
    "import cv2\n",
    "import numpy as np\n",
    "import pandas as pd\n",
    "import SimpleITK as sitk\n",
    "from radiomics import featureextractor"
   ]
  },
  {
   "cell_type": "code",
   "execution_count": 7,
   "metadata": {},
   "outputs": [
    {
     "name": "stdout",
     "output_type": "stream",
     "text": [
      "\u001b[0m\u001b[34;42mdata\u001b[0m/               \u001b[01;32mmodels.py\u001b[0m*                  \u001b[01;32mrequirements.txt\u001b[0m*\r\n",
      "\u001b[01;32mdataset_washu2.py\u001b[0m*  \u001b[34;42mradiomics_analysis\u001b[0m/         \u001b[01;32mtrain_washu2_classifier.py\u001b[0m*\r\n",
      "\u001b[01;32mlosses.py\u001b[0m*          \u001b[34;42mradiomics_analysis_washu2\u001b[0m/\r\n",
      "\u001b[01;32mmetrics.py\u001b[0m*         \u001b[01;32mREADME.md\u001b[0m*\r\n"
     ]
    }
   ],
   "source": [
    "ls"
   ]
  },
  {
   "cell_type": "code",
   "execution_count": null,
   "metadata": {},
   "outputs": [],
   "source": [
    "# --- Config ---\n",
    "image_dir = 'data\\\\washu2_mask_images_512\\\\Images'\n",
    "mask_dir = 'data\\\\washu2_mask_images_512\\\\Masks'\n",
    "output_csv = 'radiomics_analysis\\\\radiomics_features_washu2.csv'\n",
    "param_file = 'radiomics_analysis\\\\radiomics_config.yaml'"
   ]
  },
  {
   "cell_type": "code",
   "execution_count": null,
   "metadata": {},
   "outputs": [],
   "source": [
    "# --- Init extractor ---\n",
    "extractor = featureextractor.RadiomicsFeatureExtractor(param_file)"
   ]
  },
  {
   "cell_type": "code",
   "execution_count": null,
   "metadata": {},
   "outputs": [],
   "source": [
    "results = []\n",
    "for filename in sorted(os.listdir(image_dir)):\n",
    "    if not filename.endswith(('.png', '.jpg', '.jpeg')):\n",
    "        continue\n",
    "\n",
    "    patient_id = os.path.splitext(filename)[0]\n",
    "    image_path = os.path.join(image_dir, filename)\n",
    "    mask_path = os.path.join(mask_dir, f\"{patient_id}_binary.png\")\n",
    "\n",
    "    print(f\"Processing {patient_id}...\")\n",
    "\n",
    "    # Load image and mask\n",
    "    image = cv2.imread(image_path, cv2.IMREAD_GRAYSCALE)\n",
    "    mask = cv2.imread(mask_path, cv2.IMREAD_GRAYSCALE)\n",
    "\n",
    "    if image is None or mask is None:\n",
    "        print(f\"❌ Error loading {patient_id}. Skipping.\")\n",
    "        continue\n",
    "\n",
    "    # Convert to SimpleITK\n",
    "    image_sitk = sitk.GetImageFromArray(image.astype(np.float32))\n",
    "    mask_sitk = sitk.GetImageFromArray((mask > 0).astype(np.uint8))\n",
    "\n",
    "    # Extract features\n",
    "    features = extractor.execute(image_sitk, mask_sitk)\n",
    "    features = {k: v for k, v in features.items() if 'diagnostics' not in k}\n",
    "    features['PatientID'] = patient_id\n",
    "    results.append(features)"
   ]
  },
  {
   "cell_type": "code",
   "execution_count": null,
   "metadata": {},
   "outputs": [],
   "source": [
    "# Save to CSV\n",
    "df = pd.DataFrame(results)\n",
    "df.to_csv(output_csv, index=False)\n",
    "print(f\"\\n✔ Saved radiomic features to {output_csv}\")"
   ]
  }
 ],
 "metadata": {
  "kernelspec": {
   "display_name": "Python 3",
   "language": "python",
   "name": "python3"
  },
  "language_info": {
   "codemirror_mode": {
    "name": "ipython",
    "version": 3
   },
   "file_extension": ".py",
   "mimetype": "text/x-python",
   "name": "python",
   "nbconvert_exporter": "python",
   "pygments_lexer": "ipython3",
   "version": "3.8.6"
  }
 },
 "nbformat": 4,
 "nbformat_minor": 4
}
